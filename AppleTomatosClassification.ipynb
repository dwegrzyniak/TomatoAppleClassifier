{
  "nbformat": 4,
  "nbformat_minor": 0,
  "metadata": {
    "colab": {
      "provenance": [],
      "authorship_tag": "ABX9TyPsMoF8sG8N4HM4FK1GEssm",
      "include_colab_link": true
    },
    "kernelspec": {
      "name": "python3",
      "display_name": "Python 3"
    },
    "language_info": {
      "name": "python"
    },
    "accelerator": "GPU",
    "gpuClass": "standard"
  },
  "cells": [
    {
      "cell_type": "markdown",
      "metadata": {
        "id": "view-in-github",
        "colab_type": "text"
      },
      "source": [
        "<a href=\"https://colab.research.google.com/github/vdpyz/TomatoAppleClassifier/blob/main/AppleTomatosClassification.ipynb\" target=\"_parent\"><img src=\"https://colab.research.google.com/assets/colab-badge.svg\" alt=\"Open In Colab\"/></a>"
      ]
    },
    {
      "cell_type": "markdown",
      "source": [
        "**Tomato or apple - classification**\n",
        "\n",
        "dataset (not rgb files removed): https://www.kaggle.com/datasets/samuelcortinhas/apples-or-tomatoes-image-classification\n",
        "\n",
        "based on: https://pytorch.org/tutorials/beginner/blitz/cifar10_tutorial.html\n",
        "\n",
        "Dominika Wegrzyniak, 07.01.2023"
      ],
      "metadata": {
        "id": "7dFuButLKL-e"
      }
    },
    {
      "cell_type": "code",
      "execution_count": 51,
      "metadata": {
        "id": "Y4BamZvaJV7r"
      },
      "outputs": [],
      "source": [
        "import numpy as np\n",
        "import matplotlib.pyplot as plt\n",
        "\n",
        "from torch.utils.data import TensorDataset, DataLoader, Dataset\n",
        "from torchvision.transforms import ToTensor\n",
        "from glob import glob                       # pobranie zawartości katalogu\n",
        "from PIL import Image                       # wczytanie pliku graficznego"
      ]
    },
    {
      "cell_type": "code",
      "source": [
        "#change to gpu\n",
        "device = \"cuda\" if torch.cuda.is_available() else \"cpu\"\n",
        "print(f\"Using {device} device\")"
      ],
      "metadata": {
        "colab": {
          "base_uri": "https://localhost:8080/"
        },
        "id": "NQ7eSyPjK2Px",
        "outputId": "8cee5a62-f831-4170-ea05-99324ac63bc4"
      },
      "execution_count": 52,
      "outputs": [
        {
          "output_type": "stream",
          "name": "stdout",
          "text": [
            "Using cuda device\n"
          ]
        }
      ]
    },
    {
      "cell_type": "code",
      "source": [
        "#!wget https://github.com/vdpyz/TomatoAppleClassifier/blob/main/archive.zip\n",
        "#!unzip archive"
      ],
      "metadata": {
        "collapsed": true,
        "id": "lAYCLyCVLhYK"
      },
      "execution_count": 53,
      "outputs": []
    },
    {
      "cell_type": "markdown",
      "source": [
        "Prepare images to ML\n",
        "Sizes of images are different -> set all to [100, 100]"
      ],
      "metadata": {
        "id": "_zwlD5eqRtFJ"
      }
    },
    {
      "cell_type": "code",
      "source": [
        "class CustomDataset(Dataset):\n",
        "    def __init__(self, root_dir):\n",
        "        self.transform = ToTensor()\n",
        "        classes = glob(f\"{root_dir}/*\") # pobieramy listę katalogów poszczególnych klas\n",
        "        self.class_ids = []     # lista indeksów klas\n",
        "        self.filenames = []     # lista ścieżek i nazw plików\n",
        "\n",
        "        # generujemy listę plików i indeksów klas\n",
        "        for id, class_dir in enumerate(classes):\n",
        "            files = glob(f\"{class_dir}/*.jpeg\")\n",
        "            self.filenames.extend(files)    # rozszerzamy listę, a więc extend, a nie append\n",
        "            self.class_ids.extend([id]*len(files))  # hint: [5]*3 wygeneruje listę [5, 5, 5]\n",
        "\n",
        "    def __len__(self):\n",
        "        return len(self.class_ids)\n",
        "\n",
        "    def __getitem__(self, idx):\n",
        "        image = Image.open(self.filenames[idx])\n",
        "        new_image = image.resize((128, 128))\n",
        "        return self.transform(new_image), self.class_ids[idx]"
      ],
      "metadata": {
        "id": "KjK_8v2HUSso"
      },
      "execution_count": 54,
      "outputs": []
    },
    {
      "cell_type": "code",
      "source": [
        "train_ds = CustomDataset('archive/train')\n",
        "test_ds = CustomDataset('archive/test')\n",
        "print(len(train_ds))\n",
        "print(len(test_ds))"
      ],
      "metadata": {
        "colab": {
          "base_uri": "https://localhost:8080/"
        },
        "id": "Hot1PRIiVg2M",
        "outputId": "f957cc08-048a-4da0-a908-9ad153599afc"
      },
      "execution_count": 55,
      "outputs": [
        {
          "output_type": "stream",
          "name": "stdout",
          "text": [
            "290\n",
            "97\n"
          ]
        }
      ]
    },
    {
      "cell_type": "code",
      "source": [
        "train_dl = DataLoader(train_ds, batch_size=64, shuffle=True)\n",
        "test_dl = DataLoader(test_ds, batch_size=len(test_ds), shuffle = False)"
      ],
      "metadata": {
        "id": "a4-iELT5WJZQ"
      },
      "execution_count": 83,
      "outputs": []
    },
    {
      "cell_type": "code",
      "source": [
        "for X, y in test_dl:\n",
        "    print(X.shape, y.shape)"
      ],
      "metadata": {
        "colab": {
          "base_uri": "https://localhost:8080/"
        },
        "id": "VLFF0gFoZljg",
        "outputId": "7f08319f-105a-427a-aa0e-decdd94659ca"
      },
      "execution_count": 84,
      "outputs": [
        {
          "output_type": "stream",
          "name": "stdout",
          "text": [
            "torch.Size([97, 3, 128, 128]) torch.Size([97])\n"
          ]
        }
      ]
    },
    {
      "cell_type": "markdown",
      "source": [
        "Create a CNN model"
      ],
      "metadata": {
        "id": "zzDtaqH4XrwX"
      }
    },
    {
      "cell_type": "code",
      "source": [
        "import torch\n",
        "import torch.nn as nn"
      ],
      "metadata": {
        "id": "bh6VqbFYytfs"
      },
      "execution_count": 85,
      "outputs": []
    },
    {
      "cell_type": "code",
      "source": [
        "class ConvDownBlock(nn.Module):\n",
        "    def __init__(self, in_channels, out_channels, kernel_size, padding):\n",
        "        super(ConvDownBlock, self).__init__()\n",
        "        self.conv = nn.Conv2d(in_channels=in_channels, out_channels=out_channels, kernel_size=kernel_size, padding=padding)\n",
        "        self.bn = nn.BatchNorm2d(num_features = out_channels)\n",
        "        self.relu = nn.ReLU()\n",
        "        self.maxpool = nn.MaxPool2d(kernel_size=2)\n",
        "    def forward(self, x):\n",
        "        x = self.conv(x)\n",
        "        x = self.bn(x)\n",
        "        x = self.relu(x)\n",
        "        x = self.maxpool(x)\n",
        "        return x"
      ],
      "metadata": {
        "id": "1OlFoxR-y0xF"
      },
      "execution_count": 118,
      "outputs": []
    },
    {
      "cell_type": "code",
      "source": [
        "model = nn.Sequential(\n",
        " ConvDownBlock(3, 8, 3, 1),      # (*, 3, 128, 128) -> (*, 8, 64, 64)\n",
        "    ConvDownBlock(8, 16, 3, 1),     # -> (*, 16, 32, 32)\n",
        "    ConvDownBlock(16, 32, 3, 1),    # -> (*, 32, 16, 16)\n",
        "    ConvDownBlock(32, 64, 3, 1),    # -> (*, 64, 8, 8)\n",
        "    nn.Flatten(),\n",
        "    nn.Dropout(0.2),\n",
        "    nn.Linear(in_features=64*8*8, out_features=64*8),\n",
        "    nn.ReLU(),\n",
        "    nn.Linear(in_features=64*8, out_features=256),\n",
        "    nn.ReLU(),\n",
        "    nn.Linear(in_features=256, out_features=256),\n",
        "    nn.ReLU(),\n",
        "    nn.Linear(in_features=256, out_features=64),\n",
        "    nn.ReLU(),\n",
        "    nn.Linear(in_features=64, out_features=2)\n",
        ").to(device)"
      ],
      "metadata": {
        "id": "cb3o1r3LzD39"
      },
      "execution_count": 127,
      "outputs": []
    },
    {
      "cell_type": "code",
      "source": [
        "loss_fn = torch.nn.CrossEntropyLoss()\n",
        "opt = torch.optim.Adam(model.parameters(), lr = 1e-3)"
      ],
      "metadata": {
        "id": "Sh-OEvhQzOLB"
      },
      "execution_count": 128,
      "outputs": []
    },
    {
      "cell_type": "code",
      "source": [
        "from sklearn.metrics import confusion_matrix\n",
        "\n",
        "def my_confusion_matrix(dataloader, classes):\n",
        "    cm = np.zeros((classes, classes))\n",
        "    with torch.no_grad():\n",
        "        for X, y in dataloader:\n",
        "            X = X.to(device)\n",
        "            y_pred = model(X).argmax(dim=1).cpu()\n",
        "            cm += confusion_matrix(y, y_pred)\n",
        "    return cm\n",
        "\n",
        "def accuracy(dataloader):\n",
        "    correct = 0\n",
        "    all = len(dataloader.dataset)\n",
        "\n",
        "    with torch.no_grad():\n",
        "        for X, y in dataloader:\n",
        "            X, y = X.to(device), y.to(device)\n",
        "            y_pred = model(X).argmax(dim=1)\n",
        "            correct += (y_pred == y).sum().item()\n",
        "    return correct/all"
      ],
      "metadata": {
        "id": "Jazvq0CezRYB"
      },
      "execution_count": 129,
      "outputs": []
    },
    {
      "cell_type": "code",
      "source": [
        "def train_loop():\n",
        "    total_loss = 0\n",
        "\n",
        "    for X,y in train_dl:\n",
        "        X, y = X.to(device), y.to(device)\n",
        "        opt.zero_grad()\n",
        "\n",
        "        y_pred = model(X)\n",
        "\n",
        "        loss = loss_fn(y_pred, y)\n",
        "\n",
        "        loss.backward()\n",
        "        opt.step()\n",
        "        total_loss += loss.item()\n",
        "        \n",
        "    return total_loss"
      ],
      "metadata": {
        "id": "pJOcDsMMzUWK"
      },
      "execution_count": 130,
      "outputs": []
    },
    {
      "cell_type": "code",
      "source": [
        "loss_history=[]"
      ],
      "metadata": {
        "id": "dPVRJ5HRzY3k"
      },
      "execution_count": 131,
      "outputs": []
    },
    {
      "cell_type": "code",
      "source": [
        "epochs=101\n",
        "for epoch in range(epochs):\n",
        "    loss=train_loop()\n",
        "    loss_history.append(loss)\n",
        "    if not epoch%10:\n",
        "        print(f\"Epoch: {epoch} loss: {loss}\")\n",
        "plt.plot(loss_history);"
      ],
      "metadata": {
        "colab": {
          "base_uri": "https://localhost:8080/",
          "height": 469
        },
        "id": "N1oFLuvnzbM4",
        "outputId": "b0b27169-de52-422d-cbdd-6a04b9c4697d"
      },
      "execution_count": 132,
      "outputs": [
        {
          "output_type": "stream",
          "name": "stdout",
          "text": [
            "Epoch: 0 loss: 3.3809890747070312\n",
            "Epoch: 10 loss: 1.183321051299572\n",
            "Epoch: 20 loss: 0.10431524057639763\n",
            "Epoch: 30 loss: 0.15633928054012358\n",
            "Epoch: 40 loss: 0.12612243462353945\n",
            "Epoch: 50 loss: 0.006297405692748725\n",
            "Epoch: 60 loss: 6.718586223541934e-05\n",
            "Epoch: 70 loss: 7.913763738542912e-06\n",
            "Epoch: 80 loss: 0.020106044561543968\n",
            "Epoch: 90 loss: 0.017148886385257356\n",
            "Epoch: 100 loss: 0.007435448642354459\n"
          ]
        },
        {
          "output_type": "display_data",
          "data": {
            "text/plain": [
              "<Figure size 432x288 with 1 Axes>"
            ],
            "image/png": "[encoded data removed]"
          },
          "metadata": {}
        }
      ]
    },
    {
      "cell_type": "code",
      "source": [
        "accuracy(train_dl), accuracy(test_dl)"
      ],
      "metadata": {
        "colab": {
          "base_uri": "https://localhost:8080/"
        },
        "id": "UR6kCQqSzc10",
        "outputId": "dd6ffa34-933c-45ba-f484-ce3e9db6a4ce"
      },
      "execution_count": 133,
      "outputs": [
        {
          "output_type": "execute_result",
          "data": {
            "text/plain": [
              "(1.0, 0.7628865979381443)"
            ]
          },
          "metadata": {},
          "execution_count": 133
        }
      ]
    },
    {
      "cell_type": "code",
      "source": [
        "labels = [\"tomato\", \"apple\"]\n",
        "cm=my_confusion_matrix(test_dl, 2)\n",
        "fig, ax = plt.subplots(1,1)\n",
        "ax.imshow(cm, cmap=\"gray_r\")\n",
        "\n",
        "ax.set_xticks(list(range(2)))\n",
        "ax.set_xticklabels(labels, rotation=45)\n",
        "ax.set_yticks(list(range(2)))\n",
        "ax.set_yticklabels(labels);"
      ],
      "metadata": {
        "colab": {
          "base_uri": "https://localhost:8080/",
          "height": 288
        },
        "id": "1bBfbJnqzhQg",
        "outputId": "51e29ff9-3735-46ea-9619-367ee6a053a6"
      },
      "execution_count": 117,
      "outputs": [
        {
          "output_type": "display_data",
          "data": {
            "text/plain": [
              "<Figure size 432x288 with 1 Axes>"
            ],
            "image/png": "[encoded data removed]"
          },
          "metadata": {
            "needs_background": "light"
          }
        }
      ]
    },
    {
      "cell_type": "code",
      "source": [
        "import seaborn as sns\n",
        "from seaborn import heatmap\n",
        "\n",
        "plt.figure(figsize=(11,8))\n",
        "sns.set(font_scale=2)\n",
        "\n",
        "heatmap(cm,\n",
        "        annot=True,\n",
        "        annot_kws={\"size\": 30},\n",
        "        fmt='g',\n",
        "        cmap='Blues',\n",
        "        xticklabels=labels,\n",
        "        yticklabels=labels)\n",
        "\n",
        "plt.xlabel('Predicted', fontsize=20)\n",
        "plt.ylabel('Actual', fontsize=20);"
      ],
      "metadata": {
        "colab": {
          "base_uri": "https://localhost:8080/",
          "height": 518
        },
        "id": "CjuV6BZa7gWs",
        "outputId": "c9916481-2ebb-495e-c512-5cc7bf724f3e"
      },
      "execution_count": 135,
      "outputs": [
        {
          "output_type": "display_data",
          "data": {
            "text/plain": [
              "<Figure size 792x576 with 2 Axes>"
            ],
            "image/png": "[encoded data removed]"
          },
          "metadata": {}
        }
      ]
    },
    {
      "cell_type": "code",
      "source": [],
      "metadata": {
        "id": "tD-jC14T9YZs"
      },
      "execution_count": null,
      "outputs": []
    }
  ]
}